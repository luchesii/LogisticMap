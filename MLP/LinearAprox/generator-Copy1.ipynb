{
 "cells": [
  {
   "cell_type": "code",
   "execution_count": 1,
   "metadata": {},
   "outputs": [],
   "source": [
    "import numpy as np\n"
   ]
  },
  {
   "cell_type": "code",
   "execution_count": 2,
   "metadata": {},
   "outputs": [],
   "source": [
    "r = 3.8\n",
    "x0=0.1\n",
    "\n",
    "iters=1000\n",
    "\n",
    "ini=1\n",
    "f_range=20\n",
    "\n",
    "file = open('test2.csv','w+')\n"
   ]
  },
  {
   "cell_type": "code",
   "execution_count": 3,
   "metadata": {},
   "outputs": [],
   "source": [
    "\n",
    "for i in range(500): \n",
    "    x1=x0*r*(1-x0)\n",
    "    x1 = round(x1,15) \n",
    "    x0=x1\n",
    "    \n",
    "\n",
    "\n",
    "x_o=[]\n",
    "for i in range(f_range+1):\n",
    "    x1=x0*r*(1-x0)\n",
    "    x1 = round(x1,15)\n",
    "    x0=x1\n",
    "    x_o.append(x1)\n",
    "\n",
    "x_o=np.asarray(x_o)\n",
    "\n",
    "for i in range (f_range):\n",
    "    file.write('{}'.format(x_o[0]))\n",
    "    file.write(',')\n",
    "    file.write('{}'.format(i+1))\n",
    "    file.write(',')\n",
    "    file.write('{}'.format((x_o[i+1])))\n",
    "    file.write('\\n')\n",
    "    \n",
    "        \n",
    "file.close()"
   ]
  }
 ],
 "metadata": {
  "kernelspec": {
   "display_name": "Python 3",
   "language": "python",
   "name": "python3"
  },
  "language_info": {
   "codemirror_mode": {
    "name": "ipython",
    "version": 3
   },
   "file_extension": ".py",
   "mimetype": "text/x-python",
   "name": "python",
   "nbconvert_exporter": "python",
   "pygments_lexer": "ipython3",
   "version": "3.6.4"
  }
 },
 "nbformat": 4,
 "nbformat_minor": 2
}
