{
 "cells": [
  {
   "cell_type": "code",
   "execution_count": null,
   "metadata": {},
   "outputs": [],
   "source": [
    "import numpy as np\n",
    "import random\n",
    "\n",
    "np.random.seed(9)\n",
    "\n",
    "r = 3.8\n",
    "x0=0.1\n",
    "\n",
    "n=1000 #número de orbtas para cada classe\n",
    "iters=100 #quantidade de pontos em cada orbita\n",
    "\n",
    "k=1\n",
    "L=14\n",
    "\n",
    "file = open('dz_fullorbit_data1000-100_atek4.csv','w+')\n",
    "\n"
   ]
  },
  {
   "cell_type": "code",
   "execution_count": null,
   "metadata": {},
   "outputs": [],
   "source": [
    "x_k=np.empty((5,iters*n*10))\n",
    "x_k_f=np.empty((5*n,iters)) #cada linha é uma orbita (linha 0, de k0, linha 1, de k1...)\n",
    "\n",
    "\n",
    "for i in range(200):\n",
    "    x1=x0*r*(1-x0)\n",
    "    x0=x1\n",
    "    \n",
    "x0 = round(x0,15) \n",
    "\n",
    "\n",
    "for i in range(iters*n*10): \n",
    "    \n",
    "    if i==0:\n",
    "        x_k[0,0] = x0\n",
    "        \n",
    "        a=round(x0*pow(10,k)-np.floor(x0*pow(10,k)),L)\n",
    "        x_k[1,0] = a\n",
    "        \n",
    "        k=2\n",
    "        L=13\n",
    "        a=round(x0*pow(10,k)-np.floor(x0*pow(10,k)),L)\n",
    "        x_k[2,0] = a\n",
    "        \n",
    "        k=3\n",
    "        L=12\n",
    "        a=round(x0*pow(10,k)-np.floor(x0*pow(10,k)),L)\n",
    "        x_k[3,0] = a\n",
    "        \n",
    "        k=4\n",
    "        l=11\n",
    "        a=round(x0*pow(10,k)-np.floor(x0*pow(10,k)),L)\n",
    "        x_k[4,0] = a\n",
    "        \n",
    "    else:\n",
    "        x_k[0,i]=round((x_k[0,i-1]*r*(1-x_k[0,i-1])),15)\n",
    "        x1=x_k[0,i]\n",
    "            \n",
    "        k=1\n",
    "        L=14\n",
    "        x_k[1,i]=round(x1*pow(10,k)-np.floor(x1*pow(10,k)),L)\n",
    "        \n",
    "        k=2\n",
    "        L=13\n",
    "        x_k[2,i]=round(x1*pow(10,k)-np.floor(x1*pow(10,k)),L)\n",
    "        \n",
    "        k=3\n",
    "        L=12\n",
    "        x1=x_k[3,i-1]*r*(1-x_k[3,i-1])\n",
    "        x_k[3,i]=round(x1*pow(10,k)-np.floor(x1*pow(10,k)),L)\n",
    "        \n",
    "        k=4\n",
    "        L=11\n",
    "        x_k[4,i]=round(x1*pow(10,k)-np.floor(x1*pow(10,k)),L)\n",
    "            \n"
   ]
  },
  {
   "cell_type": "code",
   "execution_count": null,
   "metadata": {},
   "outputs": [],
   "source": [
    "clas=np.empty((n*5),dtype=int)\n",
    "    \n",
    "    \n",
    "ind=random.sample(range((n*iters*10)-iters-1), n*5)\n",
    "\n",
    "i_ind=0\n",
    "for i in range (5):\n",
    "    for i2 in range (n):\n",
    "        x_k_f[i_ind,0:iters]=x_k[i,ind[i_ind]:ind[i_ind]+iters]\n",
    "        clas[i_ind]=i\n",
    "        i_ind+=1\n",
    "        \n",
    "        \n"
   ]
  },
  {
   "cell_type": "code",
   "execution_count": null,
   "metadata": {},
   "outputs": [],
   "source": [
    "for i in range (5*n):\n",
    "    for j in range (iters):\n",
    "        file.write('{}'.format(x_k_f[i,j]))\n",
    "        file.write(',')\n",
    "    file.write('{}'.format(clas[i]))\n",
    "    file.write('\\n')"
   ]
  },
  {
   "cell_type": "code",
   "execution_count": null,
   "metadata": {},
   "outputs": [],
   "source": [
    "file.close()"
   ]
  }
 ],
 "metadata": {
  "kernelspec": {
   "display_name": "Python 3",
   "language": "python",
   "name": "python3"
  },
  "language_info": {
   "codemirror_mode": {
    "name": "ipython",
    "version": 3
   },
   "file_extension": ".py",
   "mimetype": "text/x-python",
   "name": "python",
   "nbconvert_exporter": "python",
   "pygments_lexer": "ipython3",
   "version": "3.6.4"
  }
 },
 "nbformat": 4,
 "nbformat_minor": 2
}
