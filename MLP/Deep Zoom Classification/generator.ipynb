{
 "cells": [
  {
   "cell_type": "code",
   "execution_count": 1,
   "metadata": {},
   "outputs": [],
   "source": [
    "import numpy as np\n",
    "\n",
    "r = 3.8\n",
    "x0=0.1\n",
    "\n",
    "iters=6\n",
    "\n",
    "k=1\n",
    "L=14\n",
    "\n",
    "file = open('dz_data6_atek4.csv','w+')\n"
   ]
  },
  {
   "cell_type": "code",
   "execution_count": 2,
   "metadata": {},
   "outputs": [],
   "source": [
    "for i in range(200):\n",
    "    x1=x0*r*(1-x0)\n",
    "    x0=x1\n",
    "    \n",
    "for i in range(iters):\n",
    "    round(x0,15)   \n",
    "    x1=x0*r*(1-x0)\n",
    "    round(x1,15)\n",
    "    \n",
    "    file.write('{}'.format(x0))\n",
    "    file.write(',')\n",
    "    file.write('{}'.format(x1))\n",
    "    file.write(',')\n",
    "    file.write('0')\n",
    "    file.write('\\n')\n",
    "    \n",
    "    a=round(x0*pow(10,k)-np.floor(x0*pow(10,k)),L)\n",
    "    b=round(x1*pow(10,k)-np.floor(x1*pow(10,k)),L)\n",
    "\n",
    "    file.write('{}'.format(a))\n",
    "    file.write(',')\n",
    "    file.write('{}'.format(b))\n",
    "    file.write(',')\n",
    "    file.write('1')\n",
    "    file.write('\\n')\n",
    "    \n",
    "    k=2\n",
    "    L=13\n",
    "    \n",
    "    a=round(x0*pow(10,k)-np.floor(x0*pow(10,k)),L)\n",
    "    b=round(x1*pow(10,k)-np.floor(x1*pow(10,k)),L)\n",
    "\n",
    "    file.write('{}'.format(a))\n",
    "    file.write(',')\n",
    "    file.write('{}'.format(b))\n",
    "    file.write(',')\n",
    "    file.write('2')\n",
    "    file.write('\\n')\n",
    "    \n",
    "    k=3\n",
    "    L=12\n",
    "    \n",
    "    a=round(x0*pow(10,k)-np.floor(x0*pow(10,k)),L)\n",
    "    b=round(x1*pow(10,k)-np.floor(x1*pow(10,k)),L)\n",
    "\n",
    "    file.write('{}'.format(a))\n",
    "    file.write(',')\n",
    "    file.write('{}'.format(b))\n",
    "    file.write(',')\n",
    "    file.write('3')\n",
    "    file.write('\\n')\n",
    "    \n",
    "    k=4\n",
    "    l=11\n",
    "    \n",
    "    a=round(x0*pow(10,k)-np.floor(x0*pow(10,k)),L)\n",
    "    b=round(x1*pow(10,k)-np.floor(x1*pow(10,k)),L)\n",
    "\n",
    "    file.write('{}'.format(a))\n",
    "    file.write(',')\n",
    "    file.write('{}'.format(b))\n",
    "    file.write(',')\n",
    "    file.write('4')\n",
    "    file.write('\\n')\n",
    "    \n",
    "    x0=x1\n",
    "    \n",
    "    \n",
    "    \n",
    "    "
   ]
  },
  {
   "cell_type": "code",
   "execution_count": 3,
   "metadata": {},
   "outputs": [],
   "source": [
    "file.close()"
   ]
  },
  {
   "cell_type": "code",
   "execution_count": null,
   "metadata": {},
   "outputs": [],
   "source": []
  }
 ],
 "metadata": {
  "kernelspec": {
   "display_name": "Python 3",
   "language": "python",
   "name": "python3"
  },
  "language_info": {
   "codemirror_mode": {
    "name": "ipython",
    "version": 3
   },
   "file_extension": ".py",
   "mimetype": "text/x-python",
   "name": "python",
   "nbconvert_exporter": "python",
   "pygments_lexer": "ipython3",
   "version": "3.6.4"
  }
 },
 "nbformat": 4,
 "nbformat_minor": 2
}
