{
 "cells": [
  {
   "cell_type": "code",
   "execution_count": 38,
   "metadata": {},
   "outputs": [],
   "source": [
    "import numpy as np\n",
    "import random\n",
    "\n",
    "r = 4\n",
    "x0=0.1\n",
    "\n",
    "n=1000 #número de dados no dataset\n",
    "\n",
    "size=3 #tamanho do quadrado da \"imagem\"\n",
    "\n",
    "file = open('cnn_xn+10_data1000_x0.1_r4_s3.csv','w+')\n"
   ]
  },
  {
   "cell_type": "code",
   "execution_count": 39,
   "metadata": {},
   "outputs": [],
   "source": [
    "for i in range(200):\n",
    "    x1=x0*r*(1-x0)\n",
    "    x0=x1\n",
    "\n",
    "x=[]\n",
    "for i in range(n*10):\n",
    "    x1=x0*r*(1-x0)\n",
    "    x0=x1\n",
    "    x.append(x1)\n",
    "    \n",
    "x=np.asarray(x)\n",
    "\n",
    "ind=random.sample(range(x.shape[0]-size**2-9), n)\n",
    "\n",
    "#print(ind)\n",
    "\n",
    "\n",
    "for i in range(n):\n",
    "    for j in range(size**2):\n",
    "        file.write('{}'.format(x[ind[i]+j]))\n",
    "        file.write(',')\n",
    "    file.write('{}'.format(x[ind[i]+size**2+9]))\n",
    "    file.write('\\n')\n",
    "    \n"
   ]
  },
  {
   "cell_type": "code",
   "execution_count": 40,
   "metadata": {},
   "outputs": [],
   "source": [
    "file.close()"
   ]
  }
 ],
 "metadata": {
  "kernelspec": {
   "display_name": "Python 3",
   "language": "python",
   "name": "python3"
  },
  "language_info": {
   "codemirror_mode": {
    "name": "ipython",
    "version": 3
   },
   "file_extension": ".py",
   "mimetype": "text/x-python",
   "name": "python",
   "nbconvert_exporter": "python",
   "pygments_lexer": "ipython3",
   "version": "3.6.4"
  }
 },
 "nbformat": 4,
 "nbformat_minor": 2
}
