{
 "cells": [
  {
   "cell_type": "code",
   "execution_count": 4,
   "metadata": {},
   "outputs": [],
   "source": [
    "import numpy as np\n",
    "import matplotlib.pyplot as plt "
   ]
  },
  {
   "cell_type": "code",
   "execution_count": 5,
   "metadata": {},
   "outputs": [
    {
     "name": "stdout",
     "output_type": "stream",
     "text": [
      "(163,)\n"
     ]
    }
   ],
   "source": [
    "table1 = np.loadtxt(\"mlp_x1_r3.8_minstable.csv\", delimiter=\",\")\n",
    "table2 = np.loadtxt(\"mlp_x2_r3.8_minstable.csv\", delimiter=\",\")\n",
    "table3 = np.loadtxt(\"mlp_x3_r3.8_minstable.csv\", delimiter=\",\")\n",
    "table4 = np.loadtxt(\"mlp_x4_r3.8_minstable.csv\", delimiter=\",\")\n",
    "print(table1.shape)\n"
   ]
  },
  {
   "cell_type": "code",
   "execution_count": 6,
   "metadata": {},
   "outputs": [
    {
     "ename": "IndexError",
     "evalue": "too many indices for array",
     "output_type": "error",
     "traceback": [
      "\u001b[0;31m---------------------------------------------------------------------------\u001b[0m",
      "\u001b[0;31mIndexError\u001b[0m                                Traceback (most recent call last)",
      "\u001b[0;32m<ipython-input-6-c2d4a908f1bf>\u001b[0m in \u001b[0;36m<module>\u001b[0;34m\u001b[0m\n\u001b[1;32m      2\u001b[0m \u001b[0;34m\u001b[0m\u001b[0m\n\u001b[1;32m      3\u001b[0m     \u001b[0;32mif\u001b[0m \u001b[0mi\u001b[0m \u001b[0;34m==\u001b[0m\u001b[0;36m1\u001b[0m\u001b[0;34m:\u001b[0m\u001b[0;34m\u001b[0m\u001b[0;34m\u001b[0m\u001b[0m\n\u001b[0;32m----> 4\u001b[0;31m         \u001b[0mN\u001b[0m \u001b[0;34m=\u001b[0m \u001b[0mtable1\u001b[0m\u001b[0;34m[\u001b[0m\u001b[0;34m:\u001b[0m\u001b[0;34m,\u001b[0m\u001b[0;36m0\u001b[0m\u001b[0;34m]\u001b[0m\u001b[0;34m\u001b[0m\u001b[0;34m\u001b[0m\u001b[0m\n\u001b[0m\u001b[1;32m      5\u001b[0m         \u001b[0mMAE\u001b[0m \u001b[0;34m=\u001b[0m \u001b[0mtable1\u001b[0m\u001b[0;34m[\u001b[0m\u001b[0;34m:\u001b[0m\u001b[0;34m,\u001b[0m\u001b[0;36m1\u001b[0m\u001b[0;34m]\u001b[0m\u001b[0;34m\u001b[0m\u001b[0;34m\u001b[0m\u001b[0m\n\u001b[1;32m      6\u001b[0m         \u001b[0mMSE\u001b[0m \u001b[0;34m=\u001b[0m \u001b[0mtable1\u001b[0m\u001b[0;34m[\u001b[0m\u001b[0;34m:\u001b[0m\u001b[0;34m,\u001b[0m\u001b[0;36m2\u001b[0m\u001b[0;34m]\u001b[0m\u001b[0;34m\u001b[0m\u001b[0;34m\u001b[0m\u001b[0m\n",
      "\u001b[0;31mIndexError\u001b[0m: too many indices for array"
     ]
    }
   ],
   "source": [
    "for i in range(1,5):\n",
    "    \n",
    "    if i ==1: \n",
    "        N = table1[:,0]\n",
    "        MAE = table1[:,1]\n",
    "        MSE = table1[:,2]\n",
    "        RMSE = table1[:,3]\n",
    "    elif i ==2: \n",
    "        N = table2[:,0]\n",
    "        MAE = table2[:,1]\n",
    "        MSE = table2[:,2]\n",
    "        RMSE = table2[:,3]\n",
    "    elif i ==3: \n",
    "        N = table3[:,0]\n",
    "        MAE = table3[:,1]\n",
    "        MSE = table3[:,2]\n",
    "        RMSE = table3[3]\n",
    "    elif i ==4: \n",
    "        N = table4[:,0]\n",
    "        MAE = table4[:,1]\n",
    "        MSE = table4[:,2]\n",
    "        RMSE = table4[:,3]\n",
    "        \n",
    "    print(N.shape,MAE.shape,MSE.shape)\n",
    "    plt.plot(N,MSE)\n",
    "    plt.title('MSE xn+%d' %(i))\n",
    "    plt.ylabel('mse')\n",
    "    plt.xlabel('Number of neurons')\n",
    "    plt.show()\n",
    "    \n",
    "    plt.plot(N,RMSE)\n",
    "    plt.title('RMSE xn+%d' %(i))\n",
    "    plt.ylabel('rmse')\n",
    "    plt.xlabel('Number of neurons')\n",
    "    plt.show()\n",
    "    \n",
    "    plt.plot(N,MAE)\n",
    "    plt.title('MAE xn+%d' %(i))\n",
    "    plt.ylabel('mae')\n",
    "    plt.xlabel('Number of neurons')\n",
    "    plt.show()\n",
    "    \n",
    "    print('MSE min:',N[np.argmin(MSE)],MSE[np.argmin(MSE)])\n",
    "    print('MAE min:',N[np.argmin(MAE)],MAE[np.argmin(MAE)])\n",
    "    print('RMSE min:',N[np.argmin(RMSE)],RMSE[np.argmin(RMSE)])"
   ]
  },
  {
   "cell_type": "code",
   "execution_count": null,
   "metadata": {},
   "outputs": [],
   "source": [
    "t1 = np.loadtxt(\"mlp_x1_r3.8_x0_ae_se.csv\", delimiter=\",\")\n",
    "t2 = np.loadtxt(\"mlp_x2_r3.8_x0_ae_se.csv\", delimiter=\",\")\n",
    "t3 = np.loadtxt(\"mlp_x3_r3.8_x0_ae_se.csv\", delimiter=\",\")\n",
    "t4 = np.loadtxt(\"mlp_x4_r3.8_x0_ae_se.csv\", delimiter=\",\")"
   ]
  },
  {
   "cell_type": "code",
   "execution_count": null,
   "metadata": {},
   "outputs": [],
   "source": [
    "for future in range(1,5):\n",
    "    if future ==1: \n",
    "        x0 = t1[:,0]\n",
    "        ae = t1[:,1]\n",
    "        se = t1[:,2]\n",
    "    elif future ==2: \n",
    "        x0 = t2[:,0]\n",
    "        ae = t2[:,1]\n",
    "        se = t2[:,2]\n",
    "    elif future ==3: \n",
    "        x0 = t3[:,0]\n",
    "        ae = t3[:,1]\n",
    "        se = t3[:,2]\n",
    "    elif future ==4: \n",
    "        x0 = t4[:,0]\n",
    "        ae = t4[:,1]\n",
    "        se = t4[:,2]\n",
    "        \n",
    "        ind = np.argsort(ae[0])\n",
    "        for i in range(x0.shape[0]): \n",
    "            ii = ind[i]\n",
    "            print(x0[ii],ae[0][ii])\n",
    "            \n",
    "        ind = np.argsort(se[0])\n",
    "        for i in range(x0.shape[0]): \n",
    "            ii = ind[i]\n",
    "            print(x0[ii],se[0][ii])\n",
    "            \n",
    "        print()"
   ]
  },
  {
   "cell_type": "code",
   "execution_count": 10,
   "metadata": {},
   "outputs": [],
   "source": [
    "N= [5, 10, 15, 20, 25, 30, 35, 40, 45, 50, 60, 70, 80, 90, 100] \n",
    "ae=[0.03707170500359204, 0.037077160605107094, 0.0091396628066870676, 0.0048102253827012748, 0.0033998826824649551, 0.0054377120892860941, 0.0054266692018060799, 0.0070242851770733012, 0.001671444467172231, 0.0011914149221702644, 0.0011130525432728152, 0.0016652665611196205, 0.0022999059316795335, 0.00062380243755383378, 0.00041805165311742723] \n",
    "se=[0.0019207301231722036, 0.0019157359684507053, 0.00011619731147075072, 3.6628014834908146e-05, 1.5227758948943422e-05, 4.20789141052713e-05, 4.301788410909163e-05, 6.461551791871898e-05, 4.067904819385149e-06, 1.884967704245355e-06, 1.62367758784967e-06, 3.7260281110017483e-06, 7.183361409018592e-06, 5.770946599720143e-07, 2.638166524775443e-07]\n",
    "\n",
    "file2 = open('mlp_x1_r3.8_ttt.csv','w')\n",
    "\n",
    "for j in range(len(N)):\n",
    "    file2.write('{}'.format(N[j]))\n",
    "    file2.write(',')\n",
    "    file2.write('{}'.format(ae[j]))\n",
    "    file2.write(',')\n",
    "    file2.write('{}'.format(se[j]))\n",
    "    file2.write('\\n')\n",
    "file2.close()"
   ]
  }
 ],
 "metadata": {
  "kernelspec": {
   "display_name": "Python 3",
   "language": "python",
   "name": "python3"
  },
  "language_info": {
   "codemirror_mode": {
    "name": "ipython",
    "version": 3
   },
   "file_extension": ".py",
   "mimetype": "text/x-python",
   "name": "python",
   "nbconvert_exporter": "python",
   "pygments_lexer": "ipython3",
   "version": "3.7.3"
  }
 },
 "nbformat": 4,
 "nbformat_minor": 2
}
