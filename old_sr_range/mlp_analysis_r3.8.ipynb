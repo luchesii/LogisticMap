{
 "cells": [
  {
   "cell_type": "code",
   "execution_count": 4,
   "metadata": {},
   "outputs": [],
   "source": [
    "import numpy as np\n",
    "import matplotlib.pyplot as plt "
   ]
  },
  {
   "cell_type": "code",
   "execution_count": 5,
   "metadata": {},
   "outputs": [
    {
     "name": "stdout",
     "output_type": "stream",
     "text": [
      "(163,)\n"
     ]
    }
   ],
   "source": [
    "table1 = np.loadtxt(\"mlp_x1_r3.8_minstable.csv\", delimiter=\",\")\n",
    "table2 = np.loadtxt(\"mlp_x2_r3.8_minstable.csv\", delimiter=\",\")\n",
    "table3 = np.loadtxt(\"mlp_x3_r3.8_minstable.csv\", delimiter=\",\")\n",
    "table4 = np.loadtxt(\"mlp_x4_r3.8_minstable.csv\", delimiter=\",\")\n",
    "print(table1.shape)\n"
   ]
  },
  {
   "cell_type": "code",
   "execution_count": 6,
   "metadata": {},
   "outputs": [
    {
     "ename": "IndexError",
     "evalue": "too many indices for array",
     "output_type": "error",
     "traceback": [
      "\u001b[0;31m---------------------------------------------------------------------------\u001b[0m",
      "\u001b[0;31mIndexError\u001b[0m                                Traceback (most recent call last)",
      "\u001b[0;32m<ipython-input-6-c2d4a908f1bf>\u001b[0m in \u001b[0;36m<module>\u001b[0;34m\u001b[0m\n\u001b[1;32m      2\u001b[0m \u001b[0;34m\u001b[0m\u001b[0m\n\u001b[1;32m      3\u001b[0m     \u001b[0;32mif\u001b[0m \u001b[0mi\u001b[0m \u001b[0;34m==\u001b[0m\u001b[0;36m1\u001b[0m\u001b[0;34m:\u001b[0m\u001b[0;34m\u001b[0m\u001b[0;34m\u001b[0m\u001b[0m\n\u001b[0;32m----> 4\u001b[0;31m         \u001b[0mN\u001b[0m \u001b[0;34m=\u001b[0m \u001b[0mtable1\u001b[0m\u001b[0;34m[\u001b[0m\u001b[0;34m:\u001b[0m\u001b[0;34m,\u001b[0m\u001b[0;36m0\u001b[0m\u001b[0;34m]\u001b[0m\u001b[0;34m\u001b[0m\u001b[0;34m\u001b[0m\u001b[0m\n\u001b[0m\u001b[1;32m      5\u001b[0m         \u001b[0mMAE\u001b[0m \u001b[0;34m=\u001b[0m \u001b[0mtable1\u001b[0m\u001b[0;34m[\u001b[0m\u001b[0;34m:\u001b[0m\u001b[0;34m,\u001b[0m\u001b[0;36m1\u001b[0m\u001b[0;34m]\u001b[0m\u001b[0;34m\u001b[0m\u001b[0;34m\u001b[0m\u001b[0m\n\u001b[1;32m      6\u001b[0m         \u001b[0mMSE\u001b[0m \u001b[0;34m=\u001b[0m \u001b[0mtable1\u001b[0m\u001b[0;34m[\u001b[0m\u001b[0;34m:\u001b[0m\u001b[0;34m,\u001b[0m\u001b[0;36m2\u001b[0m\u001b[0;34m]\u001b[0m\u001b[0;34m\u001b[0m\u001b[0;34m\u001b[0m\u001b[0m\n",
      "\u001b[0;31mIndexError\u001b[0m: too many indices for array"
     ]
    }
   ],
   "source": [
    "for i in range(1,5):\n",
    "    \n",
    "    if i ==1: \n",
    "        N = table1[:,0]\n",
    "        MAE = table1[:,1]\n",
    "        MSE = table1[:,2]\n",
    "        RMSE = table1[:,3]\n",
    "    elif i ==2: \n",
    "        N = table2[:,0]\n",
    "        MAE = table2[:,1]\n",
    "        MSE = table2[:,2]\n",
    "        RMSE = table2[:,3]\n",
    "    elif i ==3: \n",
    "        N = table3[:,0]\n",
    "        MAE = table3[:,1]\n",
    "        MSE = table3[:,2]\n",
    "        RMSE = table3[3]\n",
    "    elif i ==4: \n",
    "        N = table4[:,0]\n",
    "        MAE = table4[:,1]\n",
    "        MSE = table4[:,2]\n",
    "        RMSE = table4[:,3]\n",
    "        \n",
    "    print(N.shape,MAE.shape,MSE.shape)\n",
    "    plt.plot(N,MSE)\n",
    "    plt.title('MSE xn+%d' %(i))\n",
    "    plt.ylabel('mse')\n",
    "    plt.xlabel('Number of neurons')\n",
    "    plt.show()\n",
    "    \n",
    "    plt.plot(N,RMSE)\n",
    "    plt.title('RMSE xn+%d' %(i))\n",
    "    plt.ylabel('rmse')\n",
    "    plt.xlabel('Number of neurons')\n",
    "    plt.show()\n",
    "    \n",
    "    plt.plot(N,MAE)\n",
    "    plt.title('MAE xn+%d' %(i))\n",
    "    plt.ylabel('mae')\n",
    "    plt.xlabel('Number of neurons')\n",
    "    plt.show()\n",
    "    \n",
    "    print('MSE min:',N[np.argmin(MSE)],MSE[np.argmin(MSE)])\n",
    "    print('MAE min:',N[np.argmin(MAE)],MAE[np.argmin(MAE)])\n",
    "    print('RMSE min:',N[np.argmin(RMSE)],RMSE[np.argmin(RMSE)])"
   ]
  },
  {
   "cell_type": "code",
   "execution_count": null,
   "metadata": {},
   "outputs": [],
   "source": [
    "t1 = np.loadtxt(\"mlp_x1_r3.8_x0_ae_se.csv\", delimiter=\",\")\n",
    "t2 = np.loadtxt(\"mlp_x2_r3.8_x0_ae_se.csv\", delimiter=\",\")\n",
    "t3 = np.loadtxt(\"mlp_x3_r3.8_x0_ae_se.csv\", delimiter=\",\")\n",
    "t4 = np.loadtxt(\"mlp_x4_r3.8_x0_ae_se.csv\", delimiter=\",\")"
   ]
  },
  {
   "cell_type": "code",
   "execution_count": null,
   "metadata": {},
   "outputs": [],
   "source": [
    "for future in range(1,5):\n",
    "    if future ==1: \n",
    "        x0 = t1[:,0]\n",
    "        ae = t1[:,1]\n",
    "        se = t1[:,2]\n",
    "    elif future ==2: \n",
    "        x0 = t2[:,0]\n",
    "        ae = t2[:,1]\n",
    "        se = t2[:,2]\n",
    "    elif future ==3: \n",
    "        x0 = t3[:,0]\n",
    "        ae = t3[:,1]\n",
    "        se = t3[:,2]\n",
    "    elif future ==4: \n",
    "        x0 = t4[:,0]\n",
    "        ae = t4[:,1]\n",
    "        se = t4[:,2]\n",
    "        \n",
    "        ind = np.argsort(ae[0])\n",
    "        for i in range(x0.shape[0]): \n",
    "            ii = ind[i]\n",
    "            print(x0[ii],ae[0][ii])\n",
    "            \n",
    "        ind = np.argsort(se[0])\n",
    "        for i in range(x0.shape[0]): \n",
    "            ii = ind[i]\n",
    "            print(x0[ii],se[0][ii])\n",
    "            \n",
    "        print()"
   ]
  }
 ],
 "metadata": {
  "kernelspec": {
   "display_name": "Python 3",
   "language": "python",
   "name": "python3"
  },
  "language_info": {
   "codemirror_mode": {
    "name": "ipython",
    "version": 3
   },
   "file_extension": ".py",
   "mimetype": "text/x-python",
   "name": "python",
   "nbconvert_exporter": "python",
   "pygments_lexer": "ipython3",
   "version": "3.7.3"
  }
 },
 "nbformat": 4,
 "nbformat_minor": 2
}
